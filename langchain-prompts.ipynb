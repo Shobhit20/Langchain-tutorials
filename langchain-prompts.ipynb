{
 "cells": [
  {
   "cell_type": "markdown",
   "id": "163ada02",
   "metadata": {},
   "source": [
    "## Dynamic Prompts"
   ]
  },
  {
   "cell_type": "code",
   "execution_count": null,
   "id": "57309a17",
   "metadata": {},
   "outputs": [],
   "source": [
    "from langchain_core.prompts import PromptTemplate, load_prompt \n",
    "\n",
    "prompt = PromptTemplate(\n",
    "    template=\"\"\"\n",
    "    {input_text}\n",
    "    \"\"\",\n",
    "    input_variales=[\"input_text\"]\n",
    ")\n"
   ]
  },
  {
   "cell_type": "code",
   "execution_count": 5,
   "id": "30f2e973",
   "metadata": {},
   "outputs": [
    {
     "data": {
      "text/plain": [
       "StringPromptValue(text='\\n    Hello, how are you?\\n    ')"
      ]
     },
     "execution_count": 5,
     "metadata": {},
     "output_type": "execute_result"
    }
   ],
   "source": [
    "prompt.invoke({\"input_text\": \"Hello, how are you?\"})"
   ]
  },
  {
   "cell_type": "code",
   "execution_count": null,
   "id": "68f5e4ad",
   "metadata": {},
   "outputs": [],
   "source": [
    "prompt.save(\"my_prompt.json\")\n",
    "loaded_prompt = load_prompt(\"my_prompt.json\")"
   ]
  }
 ],
 "metadata": {
  "kernelspec": {
   "display_name": "langchain",
   "language": "python",
   "name": "python3"
  },
  "language_info": {
   "codemirror_mode": {
    "name": "ipython",
    "version": 3
   },
   "file_extension": ".py",
   "mimetype": "text/x-python",
   "name": "python",
   "nbconvert_exporter": "python",
   "pygments_lexer": "ipython3",
   "version": "3.11.5"
  }
 },
 "nbformat": 4,
 "nbformat_minor": 5
}
